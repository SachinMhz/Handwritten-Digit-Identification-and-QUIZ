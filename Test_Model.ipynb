{
 "cells": [
  {
   "cell_type": "markdown",
   "metadata": {},
   "source": [
    "# Design For User interface using tkinter module"
   ]
  },
  {
   "cell_type": "markdown",
   "metadata": {},
   "source": [
    "### importing the required libraries and files"
   ]
  },
  {
   "cell_type": "code",
   "execution_count": 1,
   "metadata": {},
   "outputs": [
    {
     "name": "stderr",
     "output_type": "stream",
     "text": "Using TensorFlow backend.\n42+2\n42+2\n"
    }
   ],
   "source": [
    "from tkinter import *\n",
    "from tkinter.ttk import *\n",
    "from tkinter import messagebox\n",
    "from PIL import Image, ImageDraw, ImageTk\n",
    "import glob\n",
    "from os import path\n",
    "import os\n",
    "from functools import partial\n",
    "\n",
    "from identify_and_segment import image_identification, image_segmentation\n",
    "from numerical import LEVELS\n",
    "from quiz import QUIZ\n"
   ]
  },
  {
   "cell_type": "markdown",
   "metadata": {},
   "source": [
    "### defining the class for drawing on canvas using Hand"
   ]
  },
  {
   "cell_type": "code",
   "execution_count": 2,
   "metadata": {},
   "outputs": [],
   "source": [
    "class PaintCanvas:\n",
    "    def __init__(self,WINDOW):\n",
    "        self.WINDOW = WINDOW\n",
    "        self.old_x = None\n",
    "        self.old_y = None\n",
    "        self.penWidth = 10\n",
    "        self.canvas_width = 400\n",
    "        self.canvas_height = 150\n",
    "        self.penColor = 'black'\n",
    "        self.fg_color = (0,0,0) #for draw \n",
    "        self.bg_color = (255,255,255) #for draw\n",
    "        self.createWidgets()\n",
    "\n",
    "    def paint(self,e):\n",
    "        if self.old_x and self.old_y:\n",
    "            self.c.create_line(self.old_x,self.old_y,e.x,e.y,\n",
    "                width=self.penWidth,fill=self.penColor,\n",
    "                capstyle=ROUND,smooth=True\n",
    "            )\n",
    "            self.draw.line([self.old_x,self.old_y,e.x,e.y],self.fg_color, width=10)\n",
    "\n",
    "        self.old_x = e.x\n",
    "        self.old_y = e.y\n",
    "\n",
    "    def reset(self,e):    #reseting or cleaning the canvas \n",
    "        self.old_x = None\n",
    "        self.old_y = None \n",
    "    \n",
    "    def createWidgets(self):\n",
    "        white = (255,255,255)\n",
    "\n",
    "        x,y = 100, 333\n",
    "        \n",
    "        ShowButton(self.WINDOW,\"Pen\",x,y,self.selectPen)\n",
    "        ShowButton(self.WINDOW,\"Eraser\",x+100,y,self.selectEraser)\n",
    "        ShowButton(self.WINDOW,\"Clear\",x+200,y,self.selectClear)\n",
    "        ShowButton(self.WINDOW,\"Save\",x+300,y,self.saveImage)\n",
    "\n",
    "        self.c = Canvas(self.WINDOW,width=self.canvas_width,height=self.canvas_height,bg='white')\n",
    "        self.c.pack()\n",
    "        self.c.place(x=100,y=365)\n",
    "\n",
    "        self.c.bind('<B1-Motion>',self.paint)#drwaing the line \n",
    "        self.c.bind('<ButtonRelease-1>',self.reset)\n",
    "\n",
    "        self.image1 = Image.new(\"RGB\", (500, 150), self.bg_color)\n",
    "        self.draw = ImageDraw.Draw(self.image1)\n",
    "    \n",
    "    def selectClear(self):\n",
    "        self.c.delete(\"all\")\n",
    "        self.draw.line([0,0,500,500],self.bg_color, width=500)\n",
    "    \n",
    "    def selectPen(self):\n",
    "        self.penWidth = 13\n",
    "        self.penColor = \"black\"\n",
    "        self.fg_color = (0,0,0)\n",
    "    \n",
    "    def selectEraser(self):\n",
    "        self.penWidth = 30\n",
    "        self.penColor = \"white\"\n",
    "        self.fg_color = (255,255,255)\n",
    "    \n",
    "    def saveImage(self):\n",
    "        global QUESTION, ANSWER, level\n",
    "        Images_path = os.getcwd() + '\\\\Images\\\\'\n",
    "        filename = Images_path+\"answer.jpg\"\n",
    "\n",
    "        self.image1.save(filename)\n",
    "        image_segmentation()\n",
    "        answer, accuracy = image_identification()\n",
    "        confirm = messagebox.askquestion('Confirm','Is your number '+str(answer) +' ? (with '+str(\"{0:.2f}\".format(accuracy*100)+'% accuracy).'))\n",
    "        self.selectClear()\n",
    "        if confirm == 'no':\n",
    "            return\n",
    "        print(\"predicted number as :\",answer)\n",
    "        \n",
    "        if int(answer) == int(ANSWER):\n",
    "            level +=1\n",
    "            if GAME_TYPE == \"NUMERICAL\":\n",
    "                QUESTION  =  LEVELS[level]\n",
    "                canvas.itemconfigure(label2, text=QUESTION+' =')\n",
    "                ANSWER = eval(QUESTION.replace('x','*'))\n",
    "                \n",
    "            else:\n",
    "                QUESTION, ANSWER= QUIZ[level]\n",
    "                canvas.itemconfigure(label2, text=QUESTION)\n",
    "        else:\n",
    "            messagebox.showinfo('Wrong','Sorry, your answer is incorrect.\\n Try again.')\n"
   ]
  },
  {
   "cell_type": "markdown",
   "metadata": {},
   "source": [
    "### defining the drawing objects functions in the interface"
   ]
  },
  {
   "cell_type": "code",
   "execution_count": 7,
   "metadata": {},
   "outputs": [],
   "source": [
    "def ShowButton(WINDOW,text,X,Y,Command):\n",
    "    panel = Button(WINDOW, text=text,style='TButton',command=Command)\n",
    "    panel.pack()\n",
    "    panel.place(x=X,y=Y)\n",
    "\n",
    "def menu():\n",
    "    global canvas1\n",
    "    canvas1 = Canvas(WINDOW, width=600, height=600)\n",
    "    canvas1.pack()\n",
    "    \n",
    "    img = Image.open((bg2_img))\n",
    "    img = img.resize((600, 600), Image.ANTIALIAS)\n",
    "    img = ImageTk.PhotoImage(img)\n",
    "    bg_label = canvas1.create_image((0,0), image=img, anchor=N+W)\n",
    "    canvas1.image = img \n",
    "    label1 = canvas1.create_text((300,150), text=\"     HandWritten Digit    \\n Identification and QUIZ\",                        font=\"MSGothic 30 bold\", fill=\"green\")\n",
    "\n",
    "\n",
    "    Math_btn = Button(WINDOW,text='Math',style='W.TButton',command=partial(main,'NUMERICAL'))\n",
    "    Math_button = canvas1.create_window(300,300,window=Math_btn)\n",
    "\n",
    "    Quiz_btn = Button(WINDOW,text='Quiz',style='W.TButton',command=partial(main,'QUIZ'))\n",
    "    Quiz_button = canvas1.create_window(300,350,window=Quiz_btn)\n",
    "\n",
    "    Exit_btn = Button(WINDOW,text='Exit',style='W.TButton',command=quit)\n",
    "    Exit_button = canvas1.create_window(300,400,window=Exit_btn)\n",
    "\n",
    "def main(type):\n",
    "    global canvas, QUESTION , ANSWER , GAME_TYPE , label2, level\n",
    "    canvas1.delete('all')\n",
    "    img = Image.open((bg_img))\n",
    "    img = img.resize((600, 600), Image.ANTIALIAS)\n",
    "    img = ImageTk.PhotoImage(img)\n",
    "    canvas = Canvas(WINDOW, height=600, width=600)\n",
    "    canvas.pack()\n",
    "    canvas.place(x=0,y=0)\n",
    "\n",
    "    bg_label = canvas.create_image((0,0), image=img, anchor=N+W)\n",
    "    canvas.image = img \n",
    "    label1 = canvas.create_text((300,100), text=\"Write Your Answer\", font=\"MSGothic 40 bold\", fill=\"#652828\")\n",
    "    GAME_TYPE = type\n",
    "    level = 0\n",
    "    if GAME_TYPE == \"NUMERICAL\":\n",
    "        QUESTION  =  LEVELS[level]\n",
    "        ANSWER = eval(QUESTION)\n",
    "        label2 = canvas.create_text((300,225), text= QUESTION+' =', font=\"MSGothic 75 bold\", fill=\"#652828\")\n",
    "    else:\n",
    "        QUESTION, ANSWER= QUIZ[level]\n",
    "        label2 = canvas.create_text((300,225), text= QUESTION, font=\"MSGothic 18 bold\", fill=\"#652828\")\n",
    "\n",
    "    PaintCanvas(WINDOW)"
   ]
  },
  {
   "cell_type": "markdown",
   "metadata": {},
   "source": [
    "### defining global variables and Showing the Main interface"
   ]
  },
  {
   "cell_type": "code",
   "execution_count": 8,
   "metadata": {},
   "outputs": [
    {
     "name": "stdout",
     "output_type": "stream",
     "text": "Number of contours = 10\nFormat of hieraechy = [[Next, Previous, First_Child, Parent]]\nNumber of countours after filtering =  2\nNumber of countours after filtering =  2\n"
    }
   ],
   "source": [
    "\n",
    "Images_path = os.getcwd() + '\\\\Images\\\\'\n",
    "bg_img = Images_path + \"background.jpg\"\n",
    "bg2_img = Images_path + \"bg.jpg\"\n",
    "\n",
    "WINDOW = Tk()\n",
    "WINDOW.geometry('+200+50') #show WINDOW starting from x-200 and y-50\n",
    "WINDOW.geometry('600x600') #set the geomentry of WINDOW\n",
    "WINDOW.title(\"Machine learning\")\n",
    "style = Style()  \n",
    "style.configure('W.TButton', font =('calibri', 15, 'bold', 'underline'), \n",
    "                foreground = 'green', borderwidth = '4') \n",
    "style.configure('TButton', font =('calibri', 13, 'bold', 'underline'), \n",
    "                foreground = 'green', borderwidth = '4') \n",
    "menu()\n",
    "WINDOW.mainloop()"
   ]
  },
  {
   "cell_type": "markdown",
   "metadata": {},
   "source": [
    "# Image Segmentation and Identification Part"
   ]
  },
  {
   "cell_type": "markdown",
   "metadata": {},
   "source": [
    "### importing the required libraries"
   ]
  },
  {
   "cell_type": "code",
   "execution_count": 20,
   "metadata": {},
   "outputs": [],
   "source": [
    "#impoting packages\n",
    "import imageio\n",
    "import numpy as np\n",
    "from matplotlib import pyplot as plt\n",
    "from PIL import Image\n",
    "import os\n",
    "import cv2"
   ]
  },
  {
   "cell_type": "markdown",
   "metadata": {},
   "source": [
    "### Loading the save model and defining the paths"
   ]
  },
  {
   "cell_type": "code",
   "execution_count": 21,
   "metadata": {},
   "outputs": [],
   "source": [
    "# load the model\n",
    "from keras.models import load_model\n",
    "model = load_model(\"test_model.h5\")\n",
    "\n",
    "#paths to images\n",
    "Images_path = os.getcwd() + '\\\\Images\\\\'\n",
    "non_segmented_image_path = Images_path + 'answer.jpg'\n",
    "imageLocation = Images_path + 'Segmented_Images\\\\'\n"
   ]
  },
  {
   "cell_type": "markdown",
   "metadata": {},
   "source": [
    "## 1. Image Segmentation Part"
   ]
  },
  {
   "cell_type": "markdown",
   "metadata": {},
   "source": [
    "#### finding countours and hierarchy using openCV"
   ]
  },
  {
   "cell_type": "code",
   "execution_count": 22,
   "metadata": {},
   "outputs": [
    {
     "name": "stdout",
     "output_type": "stream",
     "text": [
      "Number of contours = 14\n",
      "Format of hieraechy = [[Next, Previous, First_Child, Parent]]\n"
     ]
    }
   ],
   "source": [
    "img = cv2.imread(non_segmented_image_path)\n",
    "\n",
    "#segmenting the image with counter from openCV\n",
    "imgray = cv2.cvtColor(img, cv2.COLOR_BGR2GRAY)\n",
    "ret, thresh = cv2.threshold(imgray, 127, 255, 0)\n",
    "contours, hierarchies = cv2.findContours(thresh, cv2.RETR_TREE, cv2.CHAIN_APPROX_NONE)\n",
    "print(\"Number of contours = \" + str(len(contours)))\n",
    "print(\"Format of hieraechy = [[Next, Previous, First_Child, Parent]]\")\n"
   ]
  },
  {
   "cell_type": "markdown",
   "metadata": {},
   "source": [
    "### filtering the unwanted contours"
   ]
  },
  {
   "cell_type": "code",
   "execution_count": 23,
   "metadata": {},
   "outputs": [],
   "source": [
    "cv2.drawContours(img, contours, -1, (0, 255, 0), 1)\n",
    "#cv2.imshow(\"img\",img)\n",
    "\n",
    "#deleting the images already in the directory\n",
    "imageLocation = Images_path + 'Segmented_Images\\\\'\n",
    "for file in os.listdir(imageLocation):\n",
    "        os.remove(imageLocation+file) \n",
    "\n",
    "#sorted_ctrs = sorted(contours, key=lambda ctr: cv2.boundingRect(ctr)[0]  )\n",
    "\n",
    "#removing unnecessary contours        \n",
    "#hierarchy[0,i,3] #hierarchy=[[Next, Previous, First_Child, Parent]]\n",
    "contours_list = []\n",
    "\n",
    "for contour,hierarchy in zip(contours,hierarchies[0]):\n",
    "    #print(hierarchy)\n",
    "    if hierarchy[3] == 0 or cv2.contourArea(contour) > 1000 and hierarchy[2] != -1 :\n",
    "    #if cv2.contourArea(contour) > 100 or hierarchy[3] == 0:\n",
    "        contours_list.append(contour)\n",
    "        \n"
   ]
  },
  {
   "cell_type": "markdown",
   "metadata": {},
   "source": [
    "### sorting the contours in order"
   ]
  },
  {
   "cell_type": "code",
   "execution_count": 24,
   "metadata": {},
   "outputs": [
    {
     "name": "stdout",
     "output_type": "stream",
     "text": [
      "Number of countours after filtering =  2\n"
     ]
    }
   ],
   "source": [
    "#sorting contours\n",
    "contours_list = sorted(contours_list, key=lambda ctr: cv2.boundingRect(ctr)[0]  )\n",
    "print('Number of countours after filtering = ',len(contours_list[1:]) )        \n"
   ]
  },
  {
   "cell_type": "markdown",
   "metadata": {},
   "source": [
    "### saving each of the contours as an image"
   ]
  },
  {
   "cell_type": "code",
   "execution_count": 28,
   "metadata": {},
   "outputs": [],
   "source": [
    "#saving and naming Contours in images\n",
    "for i,contour in enumerate(contours_list[1:]):\n",
    "        (x, y, w, h) = cv2.boundingRect(contour)\n",
    "\n",
    "        #padding images and cropping\n",
    "        p = 10  \n",
    "        x,y,w,h = x-p,y-p,w+p+10,h+p+10\n",
    "        roi = img[y:y+h, x:x+w] #roi = region of image\n",
    "\n",
    "        #saving the image\n",
    "        name = imageLocation + 'roi'+str(i)+'.png'\n",
    "        cv2.imwrite(name, roi)\n",
    "\n",
    "        #saving image with aspect-ratio\n",
    "        img2 = Image.open(name)\n",
    "        w1,h1 = img2.size\n",
    "        background = Image.open(Images_path + 'number_background.png')\n",
    "        w2,h2 = background.size\n",
    "        pasteLocation = int(w2/2) - int(w1/2), int(h2/2) - int(h1/2)\n",
    "        background.paste(img2,pasteLocation)\n",
    "        background.save(name,\"PNG\")"
   ]
  },
  {
   "cell_type": "code",
   "execution_count": null,
   "metadata": {},
   "outputs": [],
   "source": []
  },
  {
   "cell_type": "markdown",
   "metadata": {},
   "source": [
    "## 2. Image Segmentation Part"
   ]
  },
  {
   "cell_type": "markdown",
   "metadata": {},
   "source": [
    "### defining variable for adding the predicted numbers"
   ]
  },
  {
   "cell_type": "code",
   "execution_count": 32,
   "metadata": {},
   "outputs": [],
   "source": [
    "predicted_number = []\n",
    "prediction_accuracy = 0\n",
    "No_of_images = 0"
   ]
  },
  {
   "cell_type": "markdown",
   "metadata": {},
   "source": [
    "### identifying each saved images using the model"
   ]
  },
  {
   "cell_type": "code",
   "execution_count": 33,
   "metadata": {},
   "outputs": [
    {
     "name": "stdout",
     "output_type": "stream",
     "text": [
      "The predicted number is 10 with 1.0% accuracy\n"
     ]
    }
   ],
   "source": [
    "#loop though all the images in the saved folder\n",
    "for image in os.listdir(imageLocation):\n",
    "    No_of_images += 1\n",
    "    im = imageio.imread(imageLocation+image)\n",
    "    #getting image\n",
    "    #im = imageio.imread(imageLocation+'roi2.png')\n",
    "    dim = (28,28)\n",
    "\n",
    "    #preprocessing image\n",
    "    im = cv2.resize(im, dim, interpolation = cv2.INTER_AREA)\n",
    "    #plt.imshow(im)\n",
    "    gray = np.dot(im[...,:3], [0.299, 0.587, 0.114])\n",
    "    gray = gray.reshape(1, 28, 28, 1)\n",
    "    gray = 255-gray\n",
    "    gray = gray/255\n",
    "\n",
    "    # predicting the image\n",
    "    prediction = model.predict(gray)\n",
    "    predicted_number.append(str(prediction.argmax()))\n",
    "    prediction_accuracy += max(prediction[0])\n",
    "\n",
    "#converting the all predicted digit to single string \n",
    "answer = ''.join(predicted_number)\n",
    "accuracy = 0\n",
    "\n",
    "#only if images is found\n",
    "if No_of_images != 0:\n",
    "    accuracy = prediction_accuracy/No_of_images\n",
    "\n",
    "    print('The predicted number is {} with {}% accuracy'.format(answer , accuracy))"
   ]
  },
  {
   "cell_type": "code",
   "execution_count": null,
   "metadata": {},
   "outputs": [],
   "source": []
  }
 ],
 "metadata": {
  "kernelspec": {
   "display_name": "Python 3",
   "language": "python",
   "name": "python3"
  },
  "language_info": {
   "codemirror_mode": {
    "name": "ipython",
    "version": 3
   },
   "file_extension": ".py",
   "mimetype": "text/x-python",
   "name": "python",
   "nbconvert_exporter": "python",
   "pygments_lexer": "ipython3",
   "version": "3.6.2-final"
  }
 },
 "nbformat": 4,
 "nbformat_minor": 2
}